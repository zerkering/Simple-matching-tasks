{
  "nbformat": 4,
  "nbformat_minor": 0,
  "metadata": {
    "colab": {
      "provenance": []
    },
    "kernelspec": {
      "name": "python3",
      "display_name": "Python 3"
    },
    "language_info": {
      "name": "python"
    }
  },
  "cells": [
    {
      "cell_type": "markdown",
      "source": [
        "Library"
      ],
      "metadata": {
        "id": "bdkHjILcERB7"
      }
    },
    {
      "cell_type": "code",
      "execution_count": 66,
      "metadata": {
        "id": "02_fKUpG9zJC"
      },
      "outputs": [],
      "source": [
        "import gurobipy as gp\n",
        "from gurobipy import GRB\n",
        "import numpy as np"
      ]
    },
    {
      "cell_type": "code",
      "source": [
        "# Create a new model\n",
        "m = gp.Model()"
      ],
      "metadata": {
        "colab": {
          "base_uri": "https://localhost:8080/"
        },
        "id": "n9VKg4EDEPb2",
        "outputId": "99ab218e-3704-4ed3-9d0c-ec043216bfb6"
      },
      "execution_count": 65,
      "outputs": [
        {
          "output_type": "execute_result",
          "data": {
            "text/plain": [
              "<MVar ()>\n",
              "array(<gurobi.Var *Awaiting Model Update*>)"
            ]
          },
          "metadata": {},
          "execution_count": 65
        }
      ]
    },
    {
      "cell_type": "code",
      "source": [
        "# Define the decision variables\n",
        "workers = range(5)\n",
        "tasks = range(4)\n",
        "x = m.addMVar(shape=(len(workers),len(tasks)), vtype=GRB.BINARY, name=\"x\")"
      ],
      "metadata": {
        "id": "55b-8ydlQPZ-"
      },
      "execution_count": 94,
      "outputs": []
    },
    {
      "cell_type": "code",
      "source": [
        "# Define the objective function\n",
        "costs = [\n",
        "    [90, 80, 75, 70],\n",
        "    [35, 85, 55, 65],\n",
        "    [125, 95, 90, 95],\n",
        "    [45, 110, 95, 115],\n",
        "    [50, 100, 90, 100]\n",
        "]\n",
        "costs = np.asarray(costs)\n",
        "\n",
        "obj = gp.quicksum(costs[i,j] * x[i,j] for i in workers for j in tasks)\n",
        "\n",
        "m.setObjective(obj, sense=gp.GRB.MINIMIZE)\n"
      ],
      "metadata": {
        "id": "mE-GwXIBMQRj"
      },
      "execution_count": 95,
      "outputs": []
    },
    {
      "cell_type": "code",
      "source": [
        "# Add the constraints\n",
        "for i in workers:\n",
        "  m.addConstr(gp.quicksum(x[i,j] for j in tasks) <= 1) # Worker i can be assigned at most 1 task\n",
        "\n",
        "for j in tasks:\n",
        "    m.addConstr(gp.quicksum(x[i,j] for i in workers) == 1) #Task j must be only 1 unique worker\n",
        "\n"
      ],
      "metadata": {
        "id": "H4FbaoRsRNkm"
      },
      "execution_count": 110,
      "outputs": []
    },
    {
      "cell_type": "code",
      "source": [
        "# Optimize the model\n",
        "m.optimize()\n",
        "\n",
        "# Print the optimal solution and total cost\n",
        "if m.status == GRB.OPTIMAL:\n",
        "    for i in workers:\n",
        "        for j in tasks:\n",
        "            if x[i,j].x > 0:\n",
        "                # print(f\"x is {x[i,j].x}\")\n",
        "                print(f\"Worker {i} is assigned to Task {j}\")\n",
        "    print(f\"Total cost = {m.objVal}\")\n",
        "else:\n",
        "    print(\"No solution found.\")\n",
        "\n",
        "print(x)\n",
        "\n"
      ],
      "metadata": {
        "colab": {
          "base_uri": "https://localhost:8080/"
        },
        "id": "Qp_0Ek65Fn8K",
        "outputId": "ccbfdc0f-a8c0-4955-cd5f-c8d956a93e0a"
      },
      "execution_count": 124,
      "outputs": [
        {
          "output_type": "stream",
          "name": "stdout",
          "text": [
            "Gurobi Optimizer version 10.0.1 build v10.0.1rc0 (linux64)\n",
            "\n",
            "CPU model: Intel(R) Xeon(R) CPU @ 2.20GHz, instruction set [SSE2|AVX|AVX2]\n",
            "Thread count: 1 physical cores, 2 logical processors, using up to 2 threads\n",
            "\n",
            "Optimize a model with 74 rows, 40 columns and 348 nonzeros\n",
            "Model fingerprint: 0xa8f6c4d5\n",
            "Variable types: 0 continuous, 40 integer (40 binary)\n",
            "Coefficient statistics:\n",
            "  Matrix range     [1e+00, 1e+00]\n",
            "  Objective range  [4e+01, 1e+02]\n",
            "  Bounds range     [1e+00, 1e+00]\n",
            "  RHS range        [1e+00, 1e+00]\n",
            "Presolved: 9 rows, 20 columns, 40 nonzeros\n",
            "\n",
            "Continuing optimization...\n",
            "\n",
            "\n",
            "Explored 1 nodes (7 simplex iterations) in 0.01 seconds (0.00 work units)\n",
            "Thread count was 2 (of 2 available processors)\n",
            "\n",
            "Solution count 3: 265 290 385 \n",
            "\n",
            "Optimal solution found (tolerance 1.00e-04)\n",
            "Best objective 2.650000000000e+02, best bound 2.650000000000e+02, gap 0.0000%\n",
            "Worker 0 is assigned to Task 3\n",
            "Worker 1 is assigned to Task 2\n",
            "Worker 2 is assigned to Task 1\n",
            "Worker 3 is assigned to Task 0\n",
            "Total cost = 265.0\n",
            "<MVar (5, 4)>\n",
            "array([[<gurobi.Var x[0,0] (value -0.0)>,\n",
            "        <gurobi.Var x[0,1] (value 0.0)>,\n",
            "        <gurobi.Var x[0,2] (value -0.0)>,\n",
            "        <gurobi.Var x[0,3] (value 1.0)>],\n",
            "       [<gurobi.Var x[1,0] (value -0.0)>,\n",
            "        <gurobi.Var x[1,1] (value -0.0)>,\n",
            "        <gurobi.Var x[1,2] (value 1.0)>, <gurobi.Var x[1,3] (value 0.0)>],\n",
            "       [<gurobi.Var x[2,0] (value -0.0)>,\n",
            "        <gurobi.Var x[2,1] (value 1.0)>,\n",
            "        <gurobi.Var x[2,2] (value -0.0)>,\n",
            "        <gurobi.Var x[2,3] (value -0.0)>],\n",
            "       [<gurobi.Var x[3,0] (value 1.0)>,\n",
            "        <gurobi.Var x[3,1] (value -0.0)>,\n",
            "        <gurobi.Var x[3,2] (value -0.0)>,\n",
            "        <gurobi.Var x[3,3] (value -0.0)>],\n",
            "       [<gurobi.Var x[4,0] (value -0.0)>,\n",
            "        <gurobi.Var x[4,1] (value -0.0)>,\n",
            "        <gurobi.Var x[4,2] (value -0.0)>,\n",
            "        <gurobi.Var x[4,3] (value -0.0)>]])\n"
          ]
        }
      ]
    }
  ]
}