{
 "cells": [
  {
   "attachments": {},
   "cell_type": "markdown",
   "metadata": {
    "id": "bdkHjILcERB7"
   },
   "source": [
    "Example: Optimal Assignment Problem\n",
    "There are five workers (numbered 0-4) and four tasks (numbered 0-3). \n",
    "The costs of assigning workers to tasks are shown in the following table.\n",
    "\n",
    "\n",
    "    Worker\tTask 0\tTask 1\tTask 2\tTask 3\n",
    "    0\t      90\t  80\t 75\t     70\n",
    "    1\t      35\t  85\t 55\t     65\n",
    "    2\t     125\t  95\t 90\t     95\n",
    "    3\t      45\t  110\t 95\t     115\n",
    "    4\t      50\t   100\t 90\t     100\n",
    "\n",
    "The problem is to assign each worker to at most one task, with no two workers performing the same task, while minimizing the total cost. Since there are more workers than tasks, one worker will not be assigned a task.\n"
   ]
  },
  {
   "cell_type": "code",
   "execution_count": 66,
   "metadata": {
    "id": "02_fKUpG9zJC"
   },
   "outputs": [],
   "source": [
    "import gurobipy as gp\n",
    "from gurobipy import GRB\n",
    "import numpy as np"
   ]
  },
  {
   "cell_type": "code",
   "execution_count": 65,
   "metadata": {
    "colab": {
     "base_uri": "https://localhost:8080/"
    },
    "id": "n9VKg4EDEPb2",
    "outputId": "99ab218e-3704-4ed3-9d0c-ec043216bfb6"
   },
   "outputs": [
    {
     "data": {
      "text/plain": [
       "<MVar ()>\n",
       "array(<gurobi.Var *Awaiting Model Update*>)"
      ]
     },
     "execution_count": 65,
     "metadata": {},
     "output_type": "execute_result"
    }
   ],
   "source": [
    "# Create a new model\n",
    "m = gp.Model()"
   ]
  },
  {
   "cell_type": "code",
   "execution_count": 94,
   "metadata": {
    "id": "55b-8ydlQPZ-"
   },
   "outputs": [],
   "source": [
    "# Define the decision variables\n",
    "workers = range(5)\n",
    "tasks = range(4)\n",
    "x = m.addMVar(shape=(len(workers),len(tasks)), vtype=GRB.BINARY, name=\"x\")"
   ]
  },
  {
   "cell_type": "code",
   "execution_count": 95,
   "metadata": {
    "id": "mE-GwXIBMQRj"
   },
   "outputs": [],
   "source": [
    "# Define the objective function\n",
    "costs = [\n",
    "    [90, 80, 75, 70],\n",
    "    [35, 85, 55, 65],\n",
    "    [125, 95, 90, 95],\n",
    "    [45, 110, 95, 115],\n",
    "    [50, 100, 90, 100]\n",
    "]\n",
    "costs = np.asarray(costs)\n",
    "\n",
    "obj = gp.quicksum(costs[i,j] * x[i,j] for i in workers for j in tasks)\n",
    "\n",
    "m.setObjective(obj, sense=gp.GRB.MINIMIZE)\n"
   ]
  },
  {
   "cell_type": "code",
   "execution_count": 110,
   "metadata": {
    "id": "H4FbaoRsRNkm"
   },
   "outputs": [],
   "source": [
    "# Add the constraints\n",
    "for i in workers:\n",
    "  m.addConstr(gp.quicksum(x[i,j] for j in tasks) <= 1) # Worker i can be assigned at most 1 task\n",
    "\n",
    "for j in tasks:\n",
    "    m.addConstr(gp.quicksum(x[i,j] for i in workers) == 1) #Task j must be only 1 unique worker\n",
    "\n"
   ]
  },
  {
   "cell_type": "code",
   "execution_count": 124,
   "metadata": {
    "colab": {
     "base_uri": "https://localhost:8080/"
    },
    "id": "Qp_0Ek65Fn8K",
    "outputId": "ccbfdc0f-a8c0-4955-cd5f-c8d956a93e0a"
   },
   "outputs": [
    {
     "name": "stdout",
     "output_type": "stream",
     "text": [
      "Gurobi Optimizer version 10.0.1 build v10.0.1rc0 (linux64)\n",
      "\n",
      "CPU model: Intel(R) Xeon(R) CPU @ 2.20GHz, instruction set [SSE2|AVX|AVX2]\n",
      "Thread count: 1 physical cores, 2 logical processors, using up to 2 threads\n",
      "\n",
      "Optimize a model with 74 rows, 40 columns and 348 nonzeros\n",
      "Model fingerprint: 0xa8f6c4d5\n",
      "Variable types: 0 continuous, 40 integer (40 binary)\n",
      "Coefficient statistics:\n",
      "  Matrix range     [1e+00, 1e+00]\n",
      "  Objective range  [4e+01, 1e+02]\n",
      "  Bounds range     [1e+00, 1e+00]\n",
      "  RHS range        [1e+00, 1e+00]\n",
      "Presolved: 9 rows, 20 columns, 40 nonzeros\n",
      "\n",
      "Continuing optimization...\n",
      "\n",
      "\n",
      "Explored 1 nodes (7 simplex iterations) in 0.01 seconds (0.00 work units)\n",
      "Thread count was 2 (of 2 available processors)\n",
      "\n",
      "Solution count 3: 265 290 385 \n",
      "\n",
      "Optimal solution found (tolerance 1.00e-04)\n",
      "Best objective 2.650000000000e+02, best bound 2.650000000000e+02, gap 0.0000%\n",
      "Worker 0 is assigned to Task 3\n",
      "Worker 1 is assigned to Task 2\n",
      "Worker 2 is assigned to Task 1\n",
      "Worker 3 is assigned to Task 0\n",
      "Total cost = 265.0\n",
      "<MVar (5, 4)>\n",
      "array([[<gurobi.Var x[0,0] (value -0.0)>,\n",
      "        <gurobi.Var x[0,1] (value 0.0)>,\n",
      "        <gurobi.Var x[0,2] (value -0.0)>,\n",
      "        <gurobi.Var x[0,3] (value 1.0)>],\n",
      "       [<gurobi.Var x[1,0] (value -0.0)>,\n",
      "        <gurobi.Var x[1,1] (value -0.0)>,\n",
      "        <gurobi.Var x[1,2] (value 1.0)>, <gurobi.Var x[1,3] (value 0.0)>],\n",
      "       [<gurobi.Var x[2,0] (value -0.0)>,\n",
      "        <gurobi.Var x[2,1] (value 1.0)>,\n",
      "        <gurobi.Var x[2,2] (value -0.0)>,\n",
      "        <gurobi.Var x[2,3] (value -0.0)>],\n",
      "       [<gurobi.Var x[3,0] (value 1.0)>,\n",
      "        <gurobi.Var x[3,1] (value -0.0)>,\n",
      "        <gurobi.Var x[3,2] (value -0.0)>,\n",
      "        <gurobi.Var x[3,3] (value -0.0)>],\n",
      "       [<gurobi.Var x[4,0] (value -0.0)>,\n",
      "        <gurobi.Var x[4,1] (value -0.0)>,\n",
      "        <gurobi.Var x[4,2] (value -0.0)>,\n",
      "        <gurobi.Var x[4,3] (value -0.0)>]])\n"
     ]
    }
   ],
   "source": [
    "# Optimize the model\n",
    "m.optimize()\n",
    "\n",
    "# Print the optimal solution and total cost\n",
    "if m.status == GRB.OPTIMAL:\n",
    "    for i in workers:\n",
    "        for j in tasks:\n",
    "            if x[i,j].x > 0:\n",
    "                # print(f\"x is {x[i,j].x}\")\n",
    "                print(f\"Worker {i} is assigned to Task {j}\")\n",
    "    print(f\"Total cost = {m.objVal}\")\n",
    "else:\n",
    "    print(\"No solution found.\")\n",
    "\n",
    "print(x)\n",
    "\n"
   ]
  }
 ],
 "metadata": {
  "colab": {
   "provenance": []
  },
  "kernelspec": {
   "display_name": "Python 3 (ipykernel)",
   "language": "python",
   "name": "python3"
  },
  "language_info": {
   "codemirror_mode": {
    "name": "ipython",
    "version": 3
   },
   "file_extension": ".py",
   "mimetype": "text/x-python",
   "name": "python",
   "nbconvert_exporter": "python",
   "pygments_lexer": "ipython3",
   "version": "3.9.13"
  }
 },
 "nbformat": 4,
 "nbformat_minor": 1
}
